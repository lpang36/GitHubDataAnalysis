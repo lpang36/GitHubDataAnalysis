{
 "cells": [
  {
   "cell_type": "markdown",
   "metadata": {},
   "source": [
    "# Acquiring Data From BigQuery #"
   ]
  },
  {
   "cell_type": "code",
   "execution_count": 93,
   "metadata": {},
   "outputs": [
    {
     "name": "stdout",
     "output_type": "stream",
     "text": [
      "C\n",
      "D\n",
      "\n",
      "C\n",
      "D\n",
      "\n",
      "C\n",
      "D\n",
      "Java\n",
      "JavaScript\n",
      "OCaml\n",
      "PHP\n",
      "Perl\n",
      "Python\n",
      "Shell\n",
      "\n",
      "C\n",
      "D\n",
      "Shell\n",
      "\n",
      "C\n",
      "D\n",
      "Shell\n",
      "XML\n",
      "\n",
      "C\n",
      "D\n",
      "DTrace\n",
      "Fortran\n",
      "Go\n",
      "Julia\n",
      "Makefile\n",
      "Python\n",
      "Rust\n",
      "Scala\n",
      "Scheme\n",
      "\n",
      "C\n",
      "D\n",
      "Python\n",
      "Shell\n",
      "\n",
      "C\n",
      "D\n",
      "JavaScript\n",
      "PHP\n",
      "Perl\n",
      "Python\n",
      "Shell\n",
      "\n",
      "C\n",
      "D\n",
      "JavaScript\n",
      "PHP\n",
      "Perl\n",
      "Python\n",
      "Shell\n",
      "\n",
      "C\n",
      "D\n",
      "JavaScript\n",
      "OCaml\n",
      "PHP\n",
      "Perl\n",
      "Python\n",
      "Shell\n",
      "\n"
     ]
    }
   ],
   "source": [
    "from google.cloud import bigquery\n",
    "client = bigquery.Client()\n",
    "\n",
    "QUERY = \"\"\"\n",
    "        SELECT repo_name, language\n",
    "        FROM `bigquery-public-data.github_repos.languages`\n",
    "        LIMIT 50000\n",
    "        \"\"\"\n",
    "\n",
    "query_job = client.query(QUERY)\n",
    "\n",
    "iterator = query_job.result(timeout=30)\n",
    "rows = list(iterator)\n",
    "\n",
    "for i in range(10):\n",
    "    for j in rows[i].language:\n",
    "        print j[u'name']\n",
    "    print "
   ]
  },
  {
   "cell_type": "markdown",
   "metadata": {},
   "source": [
    "# List of Languages #"
   ]
  },
  {
   "cell_type": "code",
   "execution_count": 94,
   "metadata": {},
   "outputs": [],
   "source": [
    "#sourced from githut \n",
    "import pandas\n",
    "\n",
    "df = pandas.read_csv('data/language_names.csv')\n",
    "names = df['language_name'].tolist()\n",
    "\n",
    "name_to_index = {}\n",
    "for j,i in enumerate(names):\n",
    "    name_to_index[i] = j"
   ]
  },
  {
   "cell_type": "markdown",
   "metadata": {},
   "source": [
    "# Repository-Language Matrix #"
   ]
  },
  {
   "cell_type": "code",
   "execution_count": 95,
   "metadata": {},
   "outputs": [],
   "source": [
    "import numpy as np\n",
    "from math import log\n",
    "\n",
    "mat = np.zeros((len(rows),len(names)))\n",
    "for i,row in enumerate(rows):\n",
    "    total = sum([log(lang[u'bytes']) if lang[u'bytes']!=0 else 0 for lang in row[1]])\n",
    "    for lang in rows[i].language:\n",
    "        mat[i][name_to_index[lang[u'name']]] = (log(lang[u'bytes']) if lang[u'bytes']!=0 else 0)/total if total!=0 else 0"
   ]
  },
  {
   "cell_type": "markdown",
   "metadata": {},
   "source": [
    "# K-Means #"
   ]
  },
  {
   "cell_type": "code",
   "execution_count": 96,
   "metadata": {},
   "outputs": [
    {
     "name": "stdout",
     "output_type": "stream",
     "text": [
      "[0 0 2 ..., 3 2 2]\n",
      "[[ 0.00744025  0.00463076  0.00753814 ...,  0.          0.          0.        ]\n",
      " [ 0.13377601  0.20902048  0.08283575 ...,  0.          0.          0.        ]\n",
      " [ 0.00947829  0.01293706  0.03859889 ...,  0.          0.          0.        ]\n",
      " [ 0.26464879  0.16465005  0.14825927 ...,  0.          0.          0.        ]\n",
      " [ 0.04384297  0.05335626  0.06944589 ...,  0.          0.          0.        ]]\n"
     ]
    }
   ],
   "source": [
    "from sklearn.cluster import KMeans\n",
    "\n",
    "n_clusters = 5\n",
    "km = KMeans(n_clusters=n_clusters)\n",
    "km.fit(mat)\n",
    "print km.labels_\n",
    "print km.cluster_centers_"
   ]
  },
  {
   "cell_type": "markdown",
   "metadata": {},
   "source": [
    "# PCA #"
   ]
  },
  {
   "cell_type": "code",
   "execution_count": 97,
   "metadata": {},
   "outputs": [
    {
     "name": "stdout",
     "output_type": "stream",
     "text": [
      "0.328067710982\n",
      "[ 41.95844708  32.73383163]\n"
     ]
    }
   ],
   "source": [
    "from sklearn.decomposition import PCA\n",
    "\n",
    "#not good enough for visualization\n",
    "pca = PCA(n_components=2)\n",
    "transformed = pca.fit_transform(mat[:,:10]) \n",
    "print sum(pca.explained_variance_ratio_)\n",
    "print pca.singular_values_"
   ]
  },
  {
   "cell_type": "markdown",
   "metadata": {},
   "source": [
    "# PCA Visualization #"
   ]
  },
  {
   "cell_type": "code",
   "execution_count": 109,
   "metadata": {},
   "outputs": [
    {
     "data": {
      "image/png": "[encoded data removed]",
      "text/plain": [
       "<matplotlib.figure.Figure at 0x7f7335c2d050>"
      ]
     },
     "metadata": {},
     "output_type": "display_data"
    }
   ],
   "source": [
    "from matplotlib import pyplot as plt\n",
    "from mpl_toolkits.mplot3d import Axes3D\n",
    "import random\n",
    "%matplotlib inline\n",
    "\n",
    "colors = ['black','red','blue','green','yellow','purple','pink','orange','gray','brown']\n",
    "clusters = []\n",
    "transformed = np.concatenate((transformed,np.reshape(np.array(km.labels_),(-1,1))),1)\n",
    "for i in range(n_clusters):\n",
    "    cluster = transformed[transformed[:,2]==i]\n",
    "    clusters.append(cluster)\n",
    "    smpl = np.asarray(random.sample(cluster,np.shape(cluster)[0]/10))\n",
    "    plt.scatter(smpl[:,0],smpl[:,1],color=colors[i],s=4)"
   ]
  },
  {
   "cell_type": "markdown",
   "metadata": {},
   "source": [
    "# Languages by Cluster #"
   ]
  },
  {
   "cell_type": "code",
   "execution_count": 107,
   "metadata": {},
   "outputs": [
    {
     "data": {
      "image/png": "[encoded data removed]",
      "text/plain": [
       "<matplotlib.figure.Figure at 0x7f72ec7f7150>"
      ]
     },
     "metadata": {},
     "output_type": "display_data"
    },
    {
     "data": {
      "image/png": "[encoded data removed]",
      "text/plain": [
       "<matplotlib.figure.Figure at 0x7f7314452850>"
      ]
     },
     "metadata": {},
     "output_type": "display_data"
    },
    {
     "data": {
      "image/png": "[encoded data removed]",
      "text/plain": [
       "<matplotlib.figure.Figure at 0x7f730d16bcd0>"
      ]
     },
     "metadata": {},
     "output_type": "display_data"
    },
    {
     "data": {
      "image/png": "[encoded data removed]",
      "text/plain": [
       "<matplotlib.figure.Figure at 0x7f730ce1e790>"
      ]
     },
     "metadata": {},
     "output_type": "display_data"
    },
    {
     "data": {
      "image/png": "[encoded data removed]",
      "text/plain": [
       "<matplotlib.figure.Figure at 0x7f730bdeff10>"
      ]
     },
     "metadata": {},
     "output_type": "display_data"
    }
   ],
   "source": [
    "plt.ioff()\n",
    "for i,ctr in enumerate(km.cluster_centers_.tolist()):\n",
    "    langs = sorted([(val,names[j]) for j,val in enumerate(ctr)],reverse=True)\n",
    "    X = ['']\n",
    "    X.extend([langs[k][1] for k in range(5)])\n",
    "    Y = [langs[k][0] for k in range(5)]\n",
    "    \n",
    "    fig = plt.figure()\n",
    "    plt.bar(range(1,6),Y,color=colors[i])\n",
    "    ax = plt.gca()\n",
    "    ax.set_xticklabels(X)"
   ]
  },
  {
   "cell_type": "markdown",
   "metadata": {},
   "source": [
    "# Language Associations #"
   ]
  },
  {
   "cell_type": "code",
   "execution_count": null,
   "metadata": {},
   "outputs": [],
   "source": []
  }
 ],
 "metadata": {
  "kernelspec": {
   "display_name": "Python 2",
   "language": "python",
   "name": "python2"
  },
  "language_info": {
   "codemirror_mode": {
    "name": "ipython",
    "version": 2
   },
   "file_extension": ".py",
   "mimetype": "text/x-python",
   "name": "python",
   "nbconvert_exporter": "python",
   "pygments_lexer": "ipython2",
   "version": "2.7.12"
  }
 },
 "nbformat": 4,
 "nbformat_minor": 2
}
