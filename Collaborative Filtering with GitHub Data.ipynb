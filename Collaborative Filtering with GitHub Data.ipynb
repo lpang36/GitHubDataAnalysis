{
 "cells": [
  {
   "cell_type": "markdown",
   "metadata": {},
   "source": [
    "# Collaborative Filtering #\n",
    "\n",
    "Collaborative filtering is a popular approach to creating recommender systems. Suppose we have the following problem:\n",
    "\n",
    "User A gave five stars to _Titanic_ and _The Notebook_, and one star to _Captain America_ and _Dark Knight Rises_. Should we recommend to User A a film like _Love Actually_? What about _Batman vs Superman_?\n",
    "\n",
    "In this case it's easy to tell what User A prefers since we have prior knowledge about the films. But how can we develop recommendations without this knowledge? \n",
    "\n",
    "It turns out that if we have rating data from many users it's possible to learn the underlying features that define a movie (genre, certain actors/directors, etc.) as well as the preferences of each user for each feature. Then, by identifying the features for a particular movie, and the preferences of a particular user, we can decide whether that movie would be a good recommendation. \n",
    "\n",
    "# Low Rank Matrix Factorization #\n",
    "\n",
    "One method of implementing collaborative filtering is low rank matrix factorization. Suppose we have a matrix of ratings, with one column for each user and one row for each item. Call this matrix $Y$. A small number of the elements in the matrix will have values (the rating user A gives to item B, if it exists), but the vast majority of elements will be unknown. We also have a matrix $R$ which contains 1 in locations where a rating exists and 0 where a rating has not been given. Both $R$ and $Y$ have dimension $n_{items}$ by $n_{users}$. \n",
    "\n",
    "The process described above of learning underlying features and preferences is described mathematically by:\n",
    "\n",
    "$ Y = X \\theta^{T} $\n",
    "\n",
    "$X$ is a matrix with dimension $n_{items}$ by $n_{features}$ and $\\theta$ is a matrix with dimension $n_{users}$ by $n_{features}$. Each row in $X$ is the representation of a particular item as a linear combination of features, and each row in $\\theta$ represents the preferences of a particular user for each feature. Note that a feature might be some characteristic such as genre or author - but it may also be very difficult to interpret. The beauty of the algorithm is that it will automatically choose the most meaningful features.\n",
    "\n",
    "# Training and Implementation #\n",
    "\n",
    "The goal of our algorithm is to find appropriate matrices $X$ and $\\theta$ such that $X \\theta^{T}$ approximates $Y$. However, it only needs to approximate $Y$'s values where a rating has actually been given - for some user A who has not rated item B, the value given by $X \\theta^{T}$ at column A and row B is the _predicted_ rating that user A will give to item B. \n",
    "\n",
    "We can find $X$ and $\\theta$ using gradient descent. The loss function will be the sum-of-squares loss between $X \\theta^{T}$ and $Y$, _but only evaluated on locations where a rating has been given_, i.e. where $R_{i,j}=1$. Similarly, the gradient is only computed at these locations as well. \n",
    "\n",
    "For this particular analysis, the goal is to recommend programming languages for you to learn, given some languages you already like. We will approximate the preferences of users with the languages used in GitHub repositories. The items we rate will be languages. Once we compute $X$ and $\\theta$, the recommended languages will be those with the highest predicted ratings. "
   ]
  },
  {
   "cell_type": "markdown",
   "metadata": {},
   "source": [
    "# Acquiring Data From BigQuery #"
   ]
  },
  {
   "cell_type": "markdown",
   "metadata": {},
   "source": [
    "We will import a relatively small number of repositories (for speed) and their language details. "
   ]
  },
  {
   "cell_type": "code",
   "execution_count": 1,
   "metadata": {
    "scrolled": false
   },
   "outputs": [
    {
     "name": "stdout",
     "output_type": "stream",
     "text": [
      "Repository 1\n",
      "ASP: 102 bytes\n",
      "C#: 264446 bytes\n",
      "CSS: 1100 bytes\n",
      "HTML: 1764 bytes\n",
      "PowerShell: 22990 bytes\n",
      "\n",
      "Repository 2\n",
      "CSS: 24952 bytes\n",
      "HTML: 24503 bytes\n",
      "JavaScript: 50223 bytes\n",
      "Python: 454411 bytes\n",
      "\n",
      "Repository 3\n",
      "C: 45679 bytes\n",
      "Makefile: 513 bytes\n",
      "\n",
      "Repository 4\n",
      "CSS: 11923 bytes\n",
      "HTML: 225 bytes\n",
      "JavaScript: 89398 bytes\n",
      "Vue: 41906 bytes\n",
      "\n",
      "Repository 5\n",
      "CSS: 4083 bytes\n",
      "CoffeeScript: 6911 bytes\n",
      "HTML: 17133 bytes\n",
      "JavaScript: 10024 bytes\n",
      "\n",
      "Repository 6\n",
      "C: 20996 bytes\n",
      "CMake: 4907 bytes\n",
      "Shell: 60 bytes\n",
      "\n",
      "Repository 7\n",
      "CSS: 4848 bytes\n",
      "JavaScript: 1064 bytes\n",
      "Makefile: 1581 bytes\n",
      "PHP: 402237 bytes\n",
      "Shell: 11773 bytes\n",
      "\n",
      "Repository 8\n",
      "C++: 12988 bytes\n",
      "CMake: 310 bytes\n",
      "\n",
      "Repository 9\n",
      "C: 1937 bytes\n",
      "C++: 3251951 bytes\n",
      "CMake: 19487 bytes\n",
      "Makefile: 4555 bytes\n",
      "Python: 190686 bytes\n",
      "Shell: 343386 bytes\n",
      "\n",
      "Repository 10\n",
      "JavaScript: 1586 bytes\n",
      "Ruby: 19189 bytes\n",
      "Shell: 131 bytes\n",
      "\n",
      "...\n",
      "160 repositories\n"
     ]
    }
   ],
   "source": [
    "import os\n",
    "import pandas\n",
    "import numpy as np\n",
    "\n",
    "from google.cloud import bigquery\n",
    "client = bigquery.Client()\n",
    "\n",
    "#random sample of 300 repositories\n",
    "QUERY = \"\"\"\n",
    "        SELECT repo_name, language\n",
    "        FROM `bigquery-public-data.github_repos.languages`\n",
    "        ORDER BY rand()\n",
    "        LIMIT 300\n",
    "        \"\"\"\n",
    "\n",
    "query_job = client.query(QUERY)\n",
    "\n",
    "#filter out repositories with only one language\n",
    "iterator = query_job.result(timeout=30)\n",
    "rows = list(iterator)\n",
    "rows = list(filter(lambda row: len(row.language)>1,rows))\n",
    "\n",
    "#print some repositories\n",
    "for i in range(10):\n",
    "    print('Repository '+str(i+1))\n",
    "    for j in rows[i].language:\n",
    "        print(j[u'name']+': '+str(j[u'bytes'])+' bytes')\n",
    "    print('')\n",
    "print('...')\n",
    "print(str(len(rows))+' repositories')"
   ]
  },
  {
   "cell_type": "markdown",
   "metadata": {},
   "source": [
    "# List of Languages #"
   ]
  },
  {
   "cell_type": "markdown",
   "metadata": {},
   "source": [
    "Create a list of all languages in the given sample."
   ]
  },
  {
   "cell_type": "code",
   "execution_count": 2,
   "metadata": {},
   "outputs": [
    {
     "name": "stdout",
     "output_type": "stream",
     "text": [
      "TypeScript\n",
      "Java\n",
      "Scala\n",
      "ApacheConf\n",
      "JavaScript\n",
      "Makefile\n",
      "QMake\n",
      "Perl\n",
      "IDL\n",
      "R\n",
      "...\n",
      "40 languages\n"
     ]
    }
   ],
   "source": [
    "#create dictionary of language names to matrix columns\n",
    "names = {}\n",
    "for i in range(len(rows)):\n",
    "    for j in rows[i].language:\n",
    "        if j[u'name'] in names:\n",
    "            names[j[u'name']]+=1\n",
    "        else:\n",
    "            names[j[u'name']]=1\n",
    "\n",
    "#filter out languages that only occur once\n",
    "names = [n for n in names if names[n]>1]\n",
    "for i in range(10):\n",
    "    print(names[i])\n",
    "print('...')\n",
    "\n",
    "#print some languages\n",
    "name_to_index = {}\n",
    "for j,i in enumerate(names):\n",
    "    name_to_index[i] = j\n",
    "print(str(len(names))+\" languages\")"
   ]
  },
  {
   "cell_type": "markdown",
   "metadata": {},
   "source": [
    "# Repository-Language Matrix #"
   ]
  },
  {
   "cell_type": "markdown",
   "metadata": {},
   "source": [
    "Create a matrix where each row represents a repository and each column represents a language. This matrix is our Y (i.e. what we are trying to predict). Here, if a language A is used in repository B, this is considered as repository B giving A a rating. If A is not used in B, then there is no rating (rather than a rating of 0). \n",
    "\n",
    "The value in the matrix is the log of number of bytes in the repository in that particular language."
   ]
  },
  {
   "cell_type": "code",
   "execution_count": 3,
   "metadata": {},
   "outputs": [],
   "source": [
    "from math import log\n",
    "\n",
    "#create matrix\n",
    "global mat\n",
    "mat = np.zeros((len(rows),len(names)))\n",
    "for i,row in enumerate(rows):\n",
    "    #total = sum([log(lang[u'bytes']+1) for lang in row[1]])\n",
    "    for lang in row.language:\n",
    "        if lang[u'name'] in name_to_index:\n",
    "            mat[i][name_to_index[lang[u'name']]] = log(lang[u'bytes'])\n",
    "            #mat[i][name_to_index[lang[u'name']]] = log(lang[u'bytes']+1)/total\n",
    "mat = mat[~np.all(mat==0,axis=1)]"
   ]
  },
  {
   "cell_type": "markdown",
   "metadata": {},
   "source": [
    "# PCA #"
   ]
  },
  {
   "cell_type": "markdown",
   "metadata": {},
   "source": [
    "Using PCA we can define roughly the number of features we want to identify the low rank matrix factorization. The graph below shows the amount of unexplained variance plotted against the number of components used. The \"elbow\" of the graph (at around n=12) is typically used."
   ]
  },
  {
   "cell_type": "code",
   "execution_count": 4,
   "metadata": {},
   "outputs": [
    {
     "data": {
      "text/plain": [
       "[<matplotlib.lines.Line2D at 0x7f708ece04d0>]"
      ]
     },
     "execution_count": 4,
     "metadata": {},
     "output_type": "execute_result"
    },
    {
     "data": {
      "image/png": "[encoded data removed]",
      "text/plain": [
       "<matplotlib.figure.Figure at 0x7f708ef9df50>"
      ]
     },
     "metadata": {},
     "output_type": "display_data"
    }
   ],
   "source": [
    "from sklearn.decomposition import PCA\n",
    "from matplotlib import pyplot as plt\n",
    "\n",
    "%matplotlib inline\n",
    "\n",
    "#compute PCA\n",
    "n_components = min(50,len(names))\n",
    "pca = PCA(n_components=n_components)\n",
    "transformed = pca.fit_transform(mat) \n",
    "\n",
    "#display result\n",
    "evr = [1-sum(pca.explained_variance_ratio_[:i+1]) for i in range(len(pca.explained_variance_ratio_))]\n",
    "plt.plot(range(1,n_components+1),evr)"
   ]
  },
  {
   "cell_type": "markdown",
   "metadata": {},
   "source": [
    "# Loss Function and Gradient #"
   ]
  },
  {
   "cell_type": "markdown",
   "metadata": {},
   "source": [
    "We define some useful functions. \n",
    "\n",
    "init_mask: Create a mask matrix that indicates where Y has meaningful values. \n",
    "\n",
    "loss: Sum-of-squares loss, with a regularization term to prevent overfitting. The matrices theta and X are multiplied to give a \"best guess\", which is then compared with the target matrix Y, but only in locations where a rating has been given.\n",
    "\n",
    "gradient: Derivative of loss with respect to theta and X, with a regularization term. \n",
    "\n",
    "These functions will be useful in performing gradient descent."
   ]
  },
  {
   "cell_type": "code",
   "execution_count": 5,
   "metadata": {},
   "outputs": [],
   "source": [
    "filter_size = min(100,len(mat[0]))\n",
    "mat = mat[:,range(filter_size)] if len(mat[0])>filter_size else mat #for speed\n",
    "\n",
    "#mask (R matrix)\n",
    "def init_mask(Y):\n",
    "    f = np.vectorize(lambda x: 1 if x>0 else 0)\n",
    "    return f(Y),len(Y),len(Y[0])\n",
    "\n",
    "#loss (sum of squares, with regularization)\n",
    "def loss(args,Y,mask,n_repos,n_langs,n_features,reg_param):\n",
    "    theta = np.reshape(args[:n_repos*n_features],(n_repos,n_features))\n",
    "    X = np.reshape(args[n_repos*n_features:],(n_langs,n_features))\n",
    "    g = np.vectorize(lambda x: x*x)\n",
    "    return 0.5*np.sum(np.multiply(g(np.subtract(np.matmul(theta,np.transpose(X)),Y)),mask))+reg_param/2*np.sum(g(args))\n",
    "\n",
    "#gradient\n",
    "def gradient(args,Y,mask,n_repos,n_langs,n_features,reg_param):\n",
    "    theta = np.reshape(args[:n_repos*n_features],(n_repos,n_features))\n",
    "    X = np.reshape(args[n_repos*n_features:],(n_langs,n_features))\n",
    "    X_grad = np.matmul(np.transpose(np.multiply(np.subtract(np.matmul(theta,np.transpose(X)),Y),mask)),theta)+reg_param*X\n",
    "    theta_grad = np.matmul(np.multiply(np.subtract(np.matmul(theta,np.transpose(X)),Y),mask),X)+reg_param*theta\n",
    "    return np.concatenate((np.reshape(theta_grad,-1),np.reshape(X_grad,-1)))"
   ]
  },
  {
   "cell_type": "markdown",
   "metadata": {},
   "source": [
    "# Training #"
   ]
  },
  {
   "cell_type": "markdown",
   "metadata": {},
   "source": [
    "Gradient descent is performed using loss and gradient as defined above. This will iteratively improve matrices theta and X, so that their product more closely matches the target matrix Y. "
   ]
  },
  {
   "cell_type": "code",
   "execution_count": 36,
   "metadata": {},
   "outputs": [],
   "source": [
    "import scipy.optimize as op\n",
    "\n",
    "def train(Y,mask,n_repos,n_langs,n_features=10,reg_param=0.0000001):\n",
    "    #reshape into 1D format preferred by fmin_cg\n",
    "    theta = np.random.rand(n_repos,n_features)\n",
    "    X = np.random.rand(n_langs,n_features)\n",
    "    args = np.concatenate((np.reshape(theta,-1),np.reshape(X,-1)))\n",
    "\n",
    "    #use fmin_cg to perform gradient descent\n",
    "    args = op.fmin_cg(lambda x: loss(x,Y,mask,n_repos,n_langs,n_features,reg_param),args,lambda x: gradient(x,Y,mask,n_repos,n_langs,n_features,reg_param))\n",
    "\n",
    "    #reshape into a usable format\n",
    "    theta = np.reshape(args[:n_repos*n_features],(n_repos,n_features))\n",
    "    X = np.reshape(args[n_repos*n_features:],(n_langs,n_features))\n",
    "    \n",
    "    return theta,X"
   ]
  },
  {
   "cell_type": "markdown",
   "metadata": {},
   "source": [
    "# Recommendations #"
   ]
  },
  {
   "cell_type": "markdown",
   "metadata": {},
   "source": [
    "Now, we create a function for recommendations. Unfortunately Kaggle's front end doesn't allow for user input, so we will test some inputs manually."
   ]
  },
  {
   "cell_type": "code",
   "execution_count": 37,
   "metadata": {},
   "outputs": [],
   "source": [
    "def recommend(string,Y):\n",
    "    #process input\n",
    "    print('Training...')\n",
    "    langs = string.split(' ')\n",
    "    lc_names = {str(name).lower(): name_to_index[name] for name in name_to_index}\n",
    "\n",
    "    #create extra row to append to Y matrix\n",
    "    test = np.zeros((1,len(names)))\n",
    "    known = set()\n",
    "    for lang in langs:\n",
    "        if lang.lower() in lc_names:\n",
    "            test[0][lc_names[lang.lower()]] = 1\n",
    "            known.add(lc_names[lang.lower()])\n",
    "\n",
    "    #training\n",
    "    Y = np.concatenate((Y,test[:,range(filter_size)]),0)\n",
    "    mask,n_repos,n_langs = init_mask(Y)\n",
    "    theta,X = train(Y,mask,n_repos,n_langs)\n",
    "    Y = Y[:-1]\n",
    "    \n",
    "    #plot features\n",
    "    for i in range(np.shape(X)[1]):\n",
    "        col = sorted([(X[j,i],j) for j in range(n_langs)],reverse=True)\n",
    "        #print('')\n",
    "        #for k in range(10):\n",
    "            #print(names[col[k][1]])\n",
    "\n",
    "    #find top predictions\n",
    "    predictions = np.matmul(theta,np.transpose(X))[-1].tolist()\n",
    "    predictions = sorted([(abs(j),i) for i,j in enumerate(predictions)],reverse=True)\n",
    "\n",
    "    #print predictions\n",
    "    print('')\n",
    "    i = 0\n",
    "    for val,name in predictions:\n",
    "        if name not in known:\n",
    "            print(str(i+1)+': '+names[name]+' - '+str(val))\n",
    "            i+=1\n",
    "        if i>=5:\n",
    "            break"
   ]
  },
  {
   "cell_type": "markdown",
   "metadata": {},
   "source": [
    "The recommender system adds the extra input row to target matrix Y. Then, training is performed on your language preferences simultaneously as those of all the repositories in the sample. Finally, the trained matrices theta and X are multiplied, and the last row corresponds to the predicted ratings based on your preferences. The highest values are the languages recommended to you. \n",
    "\n",
    "# Some Examples #"
   ]
  },
  {
   "cell_type": "code",
   "execution_count": 38,
   "metadata": {},
   "outputs": [
    {
     "name": "stdout",
     "output_type": "stream",
     "text": [
      "Training...\n",
      "Optimization terminated successfully.\n",
      "         Current function value: 0.000093\n",
      "         Iterations: 156\n",
      "         Function evaluations: 240\n",
      "         Gradient evaluations: 240\n",
      "\n",
      "1: Arduino - 2.28937260554\n",
      "2: C# - 2.1988148073\n",
      "3: PHP - 2.15274078836\n",
      "4: C++ - 2.11193126621\n",
      "5: CSS - 2.089976025\n"
     ]
    }
   ],
   "source": [
    "recommend('python r',mat)"
   ]
  },
  {
   "cell_type": "code",
   "execution_count": 39,
   "metadata": {},
   "outputs": [
    {
     "name": "stdout",
     "output_type": "stream",
     "text": [
      "Training...\n",
      "Optimization terminated successfully.\n",
      "         Current function value: 0.000095\n",
      "         Iterations: 251\n",
      "         Function evaluations: 384\n",
      "         Gradient evaluations: 384\n",
      "\n",
      "1: JavaScript - 3.28091731253\n",
      "2: Makefile - 3.23717325443\n",
      "3: TypeScript - 3.22846331194\n",
      "4: Arduino - 2.91141699067\n",
      "5: C++ - 2.83684639984\n"
     ]
    }
   ],
   "source": [
    "recommend('html css',mat)"
   ]
  },
  {
   "cell_type": "code",
   "execution_count": 40,
   "metadata": {},
   "outputs": [
    {
     "name": "stdout",
     "output_type": "stream",
     "text": [
      "Training...\n",
      "Optimization terminated successfully.\n",
      "         Current function value: 0.000095\n",
      "         Iterations: 186\n",
      "         Function evaluations: 287\n",
      "         Gradient evaluations: 287\n",
      "\n",
      "1: Python - 4.09376715574\n",
      "2: C++ - 4.00002558111\n",
      "3: TypeScript - 3.9731653244\n",
      "4: C# - 3.5329519996\n",
      "5: JavaScript - 3.13825608832\n"
     ]
    }
   ],
   "source": [
    "recommend('c',mat)"
   ]
  },
  {
   "cell_type": "code",
   "execution_count": 41,
   "metadata": {},
   "outputs": [
    {
     "name": "stdout",
     "output_type": "stream",
     "text": [
      "Training...\n",
      "Optimization terminated successfully.\n",
      "         Current function value: 0.000094\n",
      "         Iterations: 233\n",
      "         Function evaluations: 358\n",
      "         Gradient evaluations: 358\n",
      "\n",
      "1: C - 3.54456153483\n",
      "2: Makefile - 2.74514165747\n",
      "3: HTML - 2.65422492064\n",
      "4: PHP - 2.61971682198\n",
      "5: Go - 2.56340367282\n"
     ]
    }
   ],
   "source": [
    "recommend('java',mat)"
   ]
  },
  {
   "cell_type": "code",
   "execution_count": 42,
   "metadata": {},
   "outputs": [
    {
     "name": "stdout",
     "output_type": "stream",
     "text": [
      "Training...\n",
      "Optimization terminated successfully.\n",
      "         Current function value: 0.000094\n",
      "         Iterations: 225\n",
      "         Function evaluations: 337\n",
      "         Gradient evaluations: 337\n",
      "\n",
      "1: Shell - 4.52769699282\n",
      "2: C# - 4.2828142518\n",
      "3: JavaScript - 4.01432142617\n",
      "4: Java - 3.95019740991\n",
      "5: C++ - 3.92307197203\n"
     ]
    }
   ],
   "source": [
    "recommend('ruby',mat)"
   ]
  },
  {
   "cell_type": "markdown",
   "metadata": {},
   "source": [
    "Feel free to fork this notebook and try out some more examples, or adjust the parameters (regularization especially seems to make a big difference)."
   ]
  }
 ],
 "metadata": {
  "kernelspec": {
   "display_name": "Python 2",
   "language": "python",
   "name": "python2"
  },
  "language_info": {
   "codemirror_mode": {
    "name": "ipython",
    "version": 2
   },
   "file_extension": ".py",
   "mimetype": "text/x-python",
   "name": "python",
   "nbconvert_exporter": "python",
   "pygments_lexer": "ipython2",
   "version": "2.7.12"
  }
 },
 "nbformat": 4,
 "nbformat_minor": 2
}
