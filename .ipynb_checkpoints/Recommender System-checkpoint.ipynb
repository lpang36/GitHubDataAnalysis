{
 "cells": [
  {
   "cell_type": "markdown",
   "metadata": {},
   "source": [
    "# Acquiring Data From BigQuery #"
   ]
  },
  {
   "cell_type": "code",
   "execution_count": 2,
   "metadata": {},
   "outputs": [
    {
     "name": "stdout",
     "output_type": "stream",
     "text": [
      "C\n",
      "D\n",
      "\n",
      "C\n",
      "D\n",
      "\n",
      "C\n",
      "D\n",
      "Java\n",
      "JavaScript\n",
      "OCaml\n",
      "PHP\n",
      "Perl\n",
      "Python\n",
      "Shell\n",
      "\n",
      "C\n",
      "D\n",
      "Shell\n",
      "\n",
      "C\n",
      "D\n",
      "Shell\n",
      "XML\n",
      "\n",
      "C\n",
      "D\n",
      "DTrace\n",
      "Fortran\n",
      "Go\n",
      "Julia\n",
      "Makefile\n",
      "Python\n",
      "Rust\n",
      "Scala\n",
      "Scheme\n",
      "\n",
      "C\n",
      "D\n",
      "Python\n",
      "Shell\n",
      "\n",
      "C\n",
      "D\n",
      "JavaScript\n",
      "PHP\n",
      "Perl\n",
      "Python\n",
      "Shell\n",
      "\n",
      "C\n",
      "D\n",
      "JavaScript\n",
      "PHP\n",
      "Perl\n",
      "Python\n",
      "Shell\n",
      "\n",
      "C\n",
      "D\n",
      "JavaScript\n",
      "OCaml\n",
      "PHP\n",
      "Perl\n",
      "Python\n",
      "Shell\n",
      "\n"
     ]
    }
   ],
   "source": [
    "import os\n",
    "import pandas\n",
    "import numpy as np\n",
    "import pickle\n",
    "\n",
    "from google.cloud import bigquery\n",
    "client = bigquery.Client()\n",
    "\n",
    "QUERY = \"\"\"\n",
    "        SELECT repo_name, language\n",
    "        FROM `bigquery-public-data.github_repos.languages`\n",
    "        LIMIT 50000\n",
    "        \"\"\"\n",
    "\n",
    "query_job = client.query(QUERY)\n",
    "\n",
    "iterator = query_job.result(timeout=30)\n",
    "rows = list(iterator)\n",
    "    \n",
    "with open('./data/raw','wb') as file:\n",
    "    pickle.dump(rows,file,-1)\n",
    "\n",
    "for i in range(10):\n",
    "    for j in rows[i].language:\n",
    "        print j[u'name']\n",
    "    print "
   ]
  },
  {
   "cell_type": "markdown",
   "metadata": {},
   "source": [
    "# List of Languages #"
   ]
  },
  {
   "cell_type": "code",
   "execution_count": 3,
   "metadata": {},
   "outputs": [],
   "source": [
    "#sourced from githut \n",
    "df = pandas.read_csv('data/language_names.csv')\n",
    "names = df['language_name'].tolist()\n",
    "\n",
    "name_to_index = {}\n",
    "for j,i in enumerate(names):\n",
    "    name_to_index[i] = j"
   ]
  },
  {
   "cell_type": "markdown",
   "metadata": {},
   "source": [
    "# Repository-Language Matrix #"
   ]
  },
  {
   "cell_type": "code",
   "execution_count": 4,
   "metadata": {},
   "outputs": [],
   "source": [
    "from math import log\n",
    "\n",
    "mat = np.zeros((len(rows),len(names)))\n",
    "for i,row in enumerate(rows):\n",
    "    total = sum([log(lang[u'bytes']) if lang[u'bytes']!=0 else 0 for lang in row[1]])\n",
    "    for lang in rows[i].language:\n",
    "        mat[i][name_to_index[lang[u'name']]] = (log(lang[u'bytes']) if lang[u'bytes']!=0 else 0)/total if total!=0 else 0"
   ]
  },
  {
   "cell_type": "markdown",
   "metadata": {},
   "source": [
    "# SVD/PCA #"
   ]
  },
  {
   "cell_type": "code",
   "execution_count": 13,
   "metadata": {},
   "outputs": [
    {
     "data": {
      "text/plain": [
       "[<matplotlib.lines.Line2D at 0x7f2d49dd7790>]"
      ]
     },
     "execution_count": 13,
     "metadata": {},
     "output_type": "execute_result"
    },
    {
     "data": {
      "image/png": "[encoded data removed]",
      "text/plain": [
       "<matplotlib.figure.Figure at 0x7f2d9091ee90>"
      ]
     },
     "metadata": {},
     "output_type": "display_data"
    }
   ],
   "source": [
    "from sklearn.decomposition import PCA\n",
    "from matplotlib import pyplot as plt\n",
    "\n",
    "#not good enough for visualization\n",
    "n_components = 100\n",
    "pca = PCA(n_components=n_components)\n",
    "transformed = pca.fit_transform(mat) \n",
    "\n",
    "evr = [1-sum(pca.explained_variance_ratio_[:i+1]) for i in range(len(pca.explained_variance_ratio_))]\n",
    "plt.plot(range(1,n_components+1),evr)"
   ]
  }
 ],
 "metadata": {
  "kernelspec": {
   "display_name": "Python 2",
   "language": "python",
   "name": "python2"
  },
  "language_info": {
   "codemirror_mode": {
    "name": "ipython",
    "version": 2
   },
   "file_extension": ".py",
   "mimetype": "text/x-python",
   "name": "python",
   "nbconvert_exporter": "python",
   "pygments_lexer": "ipython2",
   "version": "2.7.12"
  }
 },
 "nbformat": 4,
 "nbformat_minor": 2
}
