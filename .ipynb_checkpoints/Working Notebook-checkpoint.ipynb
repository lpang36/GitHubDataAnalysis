{
 "cells": [
  {
   "cell_type": "markdown",
   "metadata": {},
   "source": [
    "# Acquiring Data From BigQuery #"
   ]
  },
  {
   "cell_type": "code",
   "execution_count": 13,
   "metadata": {},
   "outputs": [
    {
     "name": "stdout",
     "output_type": "stream",
     "text": [
      "C\n",
      "D\n",
      "Java\n",
      "JavaScript\n",
      "OCaml\n",
      "PHP\n",
      "Perl\n",
      "Python\n",
      "Shell\n",
      "\n",
      "C\n",
      "D\n",
      "Shell\n",
      "\n",
      "C\n",
      "R\n",
      "\n",
      "C\n",
      "R\n",
      "\n",
      "C\n",
      "R\n",
      "\n",
      "C\n",
      "C#\n",
      "\n",
      "C\n",
      "C#\n",
      "C++\n",
      "\n",
      "C\n",
      "C#\n",
      "C++\n",
      "\n",
      "C\n",
      "C#\n",
      "C++\n",
      "\n",
      "C\n",
      "C#\n",
      "C++\n",
      "\n"
     ]
    }
   ],
   "source": [
    "from google.cloud import bigquery\n",
    "client = bigquery.Client()\n",
    "\n",
    "QUERY = \"\"\"\n",
    "        SELECT repo_name, language\n",
    "        FROM `bigquery-public-data.github_repos.languages`\n",
    "        LIMIT 10000\n",
    "        \"\"\"\n",
    "\n",
    "query_job = client.query(QUERY)\n",
    "\n",
    "iterator = query_job.result(timeout=30)\n",
    "rows = list(iterator)\n",
    "\n",
    "for i in range(10):\n",
    "    for j in rows[i].language:\n",
    "        print j[u'name']\n",
    "    print "
   ]
  },
  {
   "cell_type": "markdown",
   "metadata": {},
   "source": [
    "# List of Languages #"
   ]
  },
  {
   "cell_type": "code",
   "execution_count": 17,
   "metadata": {},
   "outputs": [],
   "source": [
    "#sourced from githut \n",
    "import pandas\n",
    "\n",
    "df = pandas.read_csv('data/language_names.csv')\n",
    "names = df['language_name'].tolist()\n",
    "\n",
    "name_to_index = {}\n",
    "for j,i in enumerate(names):\n",
    "    name_to_index[i] = j"
   ]
  },
  {
   "cell_type": "markdown",
   "metadata": {},
   "source": [
    "# Repository-Language Matrix #"
   ]
  },
  {
   "cell_type": "code",
   "execution_count": 24,
   "metadata": {},
   "outputs": [],
   "source": [
    "import numpy as np\n",
    "\n",
    "mat = np.zeros((len(rows),len(names)))\n",
    "for i,row in enumerate(rows):\n",
    "    for lang in rows[i].language:\n",
    "        mat[i][name_to_index[lang[u'name']]] = 1"
   ]
  }
 ],
 "metadata": {
  "kernelspec": {
   "display_name": "Python 2",
   "language": "python",
   "name": "python2"
  },
  "language_info": {
   "codemirror_mode": {
    "name": "ipython",
    "version": 2
   },
   "file_extension": ".py",
   "mimetype": "text/x-python",
   "name": "python",
   "nbconvert_exporter": "python",
   "pygments_lexer": "ipython2",
   "version": "2.7.12"
  }
 },
 "nbformat": 4,
 "nbformat_minor": 2
}
