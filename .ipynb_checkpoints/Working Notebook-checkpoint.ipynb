{
 "cells": [
  {
   "cell_type": "markdown",
   "metadata": {},
   "source": [
    "# Acquiring Data From BigQuery #"
   ]
  },
  {
   "cell_type": "code",
   "execution_count": 1,
   "metadata": {},
   "outputs": [
    {
     "name": "stdout",
     "output_type": "stream",
     "text": [
      "C\n",
      "D\n",
      "Java\n",
      "JavaScript\n",
      "OCaml\n",
      "PHP\n",
      "Perl\n",
      "Python\n",
      "Shell\n",
      "\n",
      "C\n",
      "D\n",
      "Shell\n",
      "\n",
      "C\n",
      "R\n",
      "\n",
      "C\n",
      "R\n",
      "\n",
      "C\n",
      "R\n",
      "\n",
      "C\n",
      "C#\n",
      "\n",
      "C\n",
      "C#\n",
      "C++\n",
      "\n",
      "C\n",
      "C#\n",
      "C++\n",
      "\n",
      "C\n",
      "C#\n",
      "C++\n",
      "\n",
      "C\n",
      "C#\n",
      "C++\n",
      "\n"
     ]
    }
   ],
   "source": [
    "from google.cloud import bigquery\n",
    "client = bigquery.Client()\n",
    "\n",
    "QUERY = \"\"\"\n",
    "        SELECT repo_name, language\n",
    "        FROM `bigquery-public-data.github_repos.languages`\n",
    "        LIMIT 10000\n",
    "        \"\"\"\n",
    "\n",
    "query_job = client.query(QUERY)\n",
    "\n",
    "iterator = query_job.result(timeout=30)\n",
    "rows = list(iterator)\n",
    "\n",
    "for i in range(10):\n",
    "    for j in rows[i].language:\n",
    "        print j[u'name']\n",
    "    print "
   ]
  },
  {
   "cell_type": "markdown",
   "metadata": {},
   "source": [
    "# List of Languages #"
   ]
  },
  {
   "cell_type": "code",
   "execution_count": 2,
   "metadata": {},
   "outputs": [],
   "source": [
    "#sourced from githut \n",
    "import pandas\n",
    "\n",
    "df = pandas.read_csv('data/language_names.csv')\n",
    "names = df['language_name'].tolist()\n",
    "\n",
    "name_to_index = {}\n",
    "for j,i in enumerate(names):\n",
    "    name_to_index[i] = j"
   ]
  },
  {
   "cell_type": "markdown",
   "metadata": {},
   "source": [
    "# Repository-Language Matrix #"
   ]
  },
  {
   "cell_type": "code",
   "execution_count": 3,
   "metadata": {},
   "outputs": [],
   "source": [
    "import numpy as np\n",
    "\n",
    "mat = np.zeros((len(rows),len(names)))\n",
    "for i,row in enumerate(rows):\n",
    "    for lang in rows[i].language:\n",
    "        mat[i][name_to_index[lang[u'name']]] = 1"
   ]
  },
  {
   "cell_type": "markdown",
   "metadata": {},
   "source": [
    "# K-Means #"
   ]
  },
  {
   "cell_type": "code",
   "execution_count": 5,
   "metadata": {},
   "outputs": [
    {
     "name": "stdout",
     "output_type": "stream",
     "text": [
      "[2 3 0 ..., 0 3 7]\n",
      "[[  9.21485110e-15   8.20000000e-02   1.66533454e-15 ...,   0.00000000e+00\n",
      "    0.00000000e+00   0.00000000e+00]\n",
      " [  1.00000000e+00   8.24925816e-01   1.00000000e+00 ...,   0.00000000e+00\n",
      "    0.00000000e+00   0.00000000e+00]\n",
      " [  3.67483296e-01   3.16258352e-01   3.29621381e-01 ...,   0.00000000e+00\n",
      "    0.00000000e+00   0.00000000e+00]\n",
      " ..., \n",
      " [  6.96642686e-01   3.49720253e-15   1.19904077e-02 ...,   0.00000000e+00\n",
      "    0.00000000e+00   0.00000000e+00]\n",
      " [  5.49560397e-15   4.01326700e-01   1.00000000e+00 ...,   0.00000000e+00\n",
      "    0.00000000e+00   0.00000000e+00]\n",
      " [  4.70219436e-02   5.22466040e-02   1.91222571e-01 ...,   0.00000000e+00\n",
      "    0.00000000e+00   0.00000000e+00]]\n"
     ]
    }
   ],
   "source": [
    "from sklearn.cluster import KMeans\n",
    "\n",
    "km = KMeans(n_clusters=10)\n",
    "km.fit(mat)\n",
    "print km.labels_\n",
    "print km.cluster_centers_"
   ]
  },
  {
   "cell_type": "markdown",
   "metadata": {},
   "source": [
    "# PCA #"
   ]
  },
  {
   "cell_type": "code",
   "execution_count": 8,
   "metadata": {},
   "outputs": [
    {
     "name": "stdout",
     "output_type": "stream",
     "text": [
      "[ 0.15908584  0.1175715   0.0608412   0.05206013  0.04481977  0.04112899\n",
      "  0.04006257  0.03649082  0.03251808  0.02987369]\n",
      "0.614452592412\n",
      "[ 70.1280594   60.28747346  43.36855564  40.11702039  37.22295568\n",
      "  35.65743328  35.1921238   33.58674041  31.70578285  30.38928752]\n"
     ]
    }
   ],
   "source": [
    "from sklearn.decomposition import PCA\n",
    "\n",
    "#not good enough for visualization\n",
    "pca = PCA(n_components=10)\n",
    "pca.fit(mat) #use fit_transform\n",
    "print pca.explained_variance_ratio_\n",
    "print sum(pca.explained_variance_ratio_) \n",
    "print pca.singular_values_"
   ]
  }
 ],
 "metadata": {
  "kernelspec": {
   "display_name": "Python 2",
   "language": "python",
   "name": "python2"
  },
  "language_info": {
   "codemirror_mode": {
    "name": "ipython",
    "version": 2
   },
   "file_extension": ".py",
   "mimetype": "text/x-python",
   "name": "python",
   "nbconvert_exporter": "python",
   "pygments_lexer": "ipython2",
   "version": "2.7.12"
  }
 },
 "nbformat": 4,
 "nbformat_minor": 2
}
